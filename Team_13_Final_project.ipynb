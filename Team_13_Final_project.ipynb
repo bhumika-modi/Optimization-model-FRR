{
 "cells": [
  {
   "cell_type": "code",
   "execution_count": 1,
   "id": "noble-particular",
   "metadata": {},
   "outputs": [],
   "source": [
    "from pyomo.environ import *\n",
    "from brooks import *\n",
    "import pandas as pd"
   ]
  },
  {
   "cell_type": "code",
   "execution_count": 2,
   "id": "loved-enzyme",
   "metadata": {},
   "outputs": [],
   "source": [
    "team_data = pd.read_excel(\"project_data_model.xlsx\", \n",
    "                          sheet_name=\"Sheet2\")\n"
   ]
  },
  {
   "cell_type": "markdown",
   "id": "random-millennium",
   "metadata": {},
   "source": [
    "Define data"
   ]
  },
  {
   "cell_type": "code",
   "execution_count": 3,
   "id": "front-possible",
   "metadata": {},
   "outputs": [],
   "source": [
    "W = list(team_data[\"Person ID\"])\n",
    "S = [\"Analyst\",\"Application Architect\",\"Architect\",\"Communication Specialists\",\"Dev/QA Manager (DevOps)\",\"Developer/Engineer\",\"Governance\",\"Operations Specialist\",\"Product Owner\",\"Release Management\",\"Scrum Master\",\"Solution Architect\",\"Tester\"]\n",
    "E = [\"advanced\",\"associate\",\"intermediate\",\"senior\"]\n",
    "P = [\"Build\",\"Plan\",\"Run\",\"Scrum\"]\n",
    "Z = [\"ET\", \"CT\", \"PT\"]\n",
    "Y = [\"0-5\",\"10-20\",\"20+\",\"5-10\"]\n",
    "A = [\"basic\",\"highly experienced and certified\",\"training/experience\"]\n",
    "T = [1,2,3,4,5,6,7,8,9,10,11,12,13,14]\n",
    "#timezone = dict(zip(W,list(team_data[\"Time Zone\"])))\n",
    "teams_max = 14\n",
    "tsplus = 2\n",
    "tsminus = 2\n",
    "feplus = 1\n",
    "feminus = 1\n",
    "fpplus = 1\n",
    "fpminus = 1\n",
    "function_traget = 3\n",
    "agile_weekly_cost = 2066.67\n",
    "time_zone_cost = 4\n",
    "team_size_cost = 14\n",
    "function_exp_cost = 6\n",
    "product_owner_cost = 3\n",
    "area_cost = 5"
   ]
  },
  {
   "cell_type": "markdown",
   "id": "defined-level",
   "metadata": {},
   "source": [
    "Declare a model object"
   ]
  },
  {
   "cell_type": "code",
   "execution_count": 4,
   "id": "intensive-audit",
   "metadata": {},
   "outputs": [],
   "source": [
    "model = Model()"
   ]
  },
  {
   "cell_type": "markdown",
   "id": "intimate-bulgarian",
   "metadata": {},
   "source": [
    "Declare non negative for variables"
   ]
  },
  {
   "cell_type": "code",
   "execution_count": 5,
   "id": "joined-clear",
   "metadata": {
    "scrolled": true
   },
   "outputs": [],
   "source": [
    "if hasattr(model,'x'):\n",
    "    model.delete(model.x)\n",
    "model.x = Var(W,T, domain = Binary)"
   ]
  },
  {
   "cell_type": "code",
   "execution_count": 6,
   "id": "welcome-slave",
   "metadata": {},
   "outputs": [],
   "source": [
    "if hasattr(model,'y'):\n",
    "    model.delete(model.y)\n",
    "model.y = Var(T,Z, domain = Binary)"
   ]
  },
  {
   "cell_type": "code",
   "execution_count": 7,
   "id": "charming-slovenia",
   "metadata": {},
   "outputs": [],
   "source": [
    "if hasattr(model,'z'):\n",
    "    model.delete(model.z)\n",
    "model.z = Var(T, domain = Binary )"
   ]
  },
  {
   "cell_type": "code",
   "execution_count": 8,
   "id": "developed-grocery",
   "metadata": {},
   "outputs": [],
   "source": [
    "if hasattr(model,'e'):\n",
    "    model.delete(model.e)\n",
    "model.e = Var(T,E, domain = NonNegativeIntegers)"
   ]
  },
  {
   "cell_type": "code",
   "execution_count": 9,
   "id": "decreased-simple",
   "metadata": {},
   "outputs": [],
   "source": [
    "if hasattr(model,'f'):\n",
    "    model.delete(model.f)\n",
    "model.f = Var(T,P, domain = NonNegativeIntegers)"
   ]
  },
  {
   "cell_type": "code",
   "execution_count": 10,
   "id": "blind-triangle",
   "metadata": {},
   "outputs": [],
   "source": [
    "if hasattr(model,'g'):\n",
    "    model.delete(model.g)\n",
    "model.g = Var(Z,T, domain = Binary )"
   ]
  },
  {
   "cell_type": "code",
   "execution_count": 11,
   "id": "established-mineral",
   "metadata": {},
   "outputs": [],
   "source": [
    "if hasattr(model,'he'):\n",
    "    model.delete(model.he)\n",
    "model.he = Var(T, domain = Binary )"
   ]
  },
  {
   "cell_type": "code",
   "execution_count": 12,
   "id": "prompt-romania",
   "metadata": {},
   "outputs": [],
   "source": [
    "if hasattr(model,'te'):\n",
    "    model.delete(model.te)\n",
    "model.te = Var(T, domain = NonNegativeIntegers )"
   ]
  },
  {
   "cell_type": "code",
   "execution_count": 13,
   "id": "following-baking",
   "metadata": {
    "scrolled": true
   },
   "outputs": [],
   "source": [
    "if hasattr(model,'tsplus'):\n",
    "    model.delete(model.tsplus)\n",
    "model.tsplus = Var(T, domain = NonNegativeReals, bounds = (0,2))"
   ]
  },
  {
   "cell_type": "code",
   "execution_count": 14,
   "id": "settled-firewall",
   "metadata": {
    "scrolled": true
   },
   "outputs": [],
   "source": [
    "if hasattr(model,'tsminus'):\n",
    "    model.delete(model.tsminus)\n",
    "model.tsminus = Var(T, domain = NonNegativeReals, bounds = (0,2))"
   ]
  },
  {
   "cell_type": "code",
   "execution_count": 15,
   "id": "portuguese-familiar",
   "metadata": {},
   "outputs": [],
   "source": [
    "if hasattr(model,'feplus'):\n",
    "    model.delete(model.feplus)\n",
    "model.feplus = Var(T,E,domain = NonNegativeIntegers, bounds = (0,1))"
   ]
  },
  {
   "cell_type": "code",
   "execution_count": 16,
   "id": "acting-traveler",
   "metadata": {},
   "outputs": [],
   "source": [
    "if hasattr(model,'feminus'):\n",
    "    model.delete(model.feminus)\n",
    "model.feminus = Var(T,E,domain = NonNegativeIntegers, bounds = (0,1))"
   ]
  },
  {
   "cell_type": "code",
   "execution_count": 17,
   "id": "valuable-australia",
   "metadata": {},
   "outputs": [],
   "source": [
    "if hasattr(model,'fpplus'):\n",
    "    model.delete(model.fpplus)\n",
    "model.fpplus = Var(T,P,domain = NonNegativeIntegers, bounds = (0,1))"
   ]
  },
  {
   "cell_type": "code",
   "execution_count": 18,
   "id": "suited-draft",
   "metadata": {},
   "outputs": [],
   "source": [
    "if hasattr(model,'fpminus'):\n",
    "    model.delete(model.fpminus)\n",
    "model.fpminus = Var(T,P,domain = NonNegativeIntegers, bounds = (0,1))"
   ]
  },
  {
   "cell_type": "markdown",
   "id": "informed-oregon",
   "metadata": {},
   "source": [
    "Define the objective function"
   ]
  },
  {
   "cell_type": "code",
   "execution_count": 19,
   "id": "worthy-bailey",
   "metadata": {
    "scrolled": true
   },
   "outputs": [],
   "source": [
    "if hasattr(model, 'cost_objective'):\n",
    "    model.delete(model.cost_objective)\n",
    "\n",
    "model.cost_objective = Objective(expr = (agile_weekly_cost*sum(model.z[j]  for j in T))+ (time_zone_cost*sum(model.y[j,k] for j in T for k in Z))+ (team_size_cost*sum(model.tsplus[j] + model.tsminus[j] for j in T)) + (function_exp_cost*sum(model.feplus[j,k] + model.feminus[j,k] for j in T for k in E))+ (product_owner_cost*sum(model.x[i,j] for i in W for j in T )) + (area_cost* sum(model.fpplus[j,k]+model.fpminus[j,k] for j in T for k in P if k!=\"Scrum\"))\n",
    " ,sense=minimize)"
   ]
  },
  {
   "cell_type": "markdown",
   "id": "norman-assets",
   "metadata": {},
   "source": [
    "Specifying Allocation constraint"
   ]
  },
  {
   "cell_type": "code",
   "execution_count": 20,
   "id": "random-chicago",
   "metadata": {},
   "outputs": [],
   "source": [
    "# All workers must be allocated constraint\n",
    "if hasattr(model, 'allocation_constraint'):\n",
    "    model.delete(model.allocation_constraint)\n",
    "model.allocation_constraint = ConstraintList()\n",
    "for i in W:\n",
    "    if S != \"Scrum Master\":\n",
    "        model.allocation_constraint.add(sum(model.x[i,j] for j in T) == 1)\n"
   ]
  },
  {
   "cell_type": "markdown",
   "id": "square-steam",
   "metadata": {},
   "source": [
    "Team size constraint"
   ]
  },
  {
   "cell_type": "code",
   "execution_count": 21,
   "id": "manufactured-migration",
   "metadata": {},
   "outputs": [],
   "source": [
    "# 1st Constraint\n",
    "if hasattr(model, 'teamsize_constraint'):\n",
    "    model.delete(model.teamsize_constraint)\n",
    "model.teamsize_constraint = ConstraintList()\n",
    "for i in W:\n",
    "    model.teamsize_constraint.add(sum(model.x[i,j] for j in T) <= (10+tsplus-tsminus))"
   ]
  },
  {
   "cell_type": "markdown",
   "id": "destroyed-apollo",
   "metadata": {},
   "source": [
    "Functional expertise diversity constraint"
   ]
  },
  {
   "cell_type": "code",
   "execution_count": 22,
   "id": "purple-india",
   "metadata": {},
   "outputs": [],
   "source": [
    "# 2nd DE Constraint\n",
    "if hasattr(model, 'Exp_Div_constraint'):\n",
    "    model.delete(model.Exp_Div_constraint)\n",
    "model.Exp_Div_constraint = ConstraintList()\n",
    "for k in E:\n",
    "    model.Exp_Div_constraint.add(sum(model.e[j,k] for j in T) <= (2.5+feplus-feminus))"
   ]
  },
  {
   "cell_type": "markdown",
   "id": "absent-triple",
   "metadata": {},
   "source": [
    "Product owner constraint"
   ]
  },
  {
   "cell_type": "code",
   "execution_count": 23,
   "id": "ambient-growth",
   "metadata": {},
   "outputs": [],
   "source": [
    "# 3rd Product Owner Constraint\n",
    "if hasattr(model, 'Po_constraint'):\n",
    "    model.delete(model.Po_constraint)\n",
    "if P == \"Y\":\n",
    "    model.Po_constraint = ConstraintList()\n",
    "    for j in T:\n",
    "        model.Po_constraint.add(sum(model.x[i,j] for i in W) >= 1)"
   ]
  },
  {
   "cell_type": "markdown",
   "id": "humanitarian-madness",
   "metadata": {},
   "source": [
    "Functional constraint"
   ]
  },
  {
   "cell_type": "code",
   "execution_count": 24,
   "id": "adolescent-hammer",
   "metadata": {},
   "outputs": [],
   "source": [
    "# 4th funtional Constraint\n",
    "if hasattr(model, 'functional_constraint'):\n",
    "    model.delete(model.functional_constraint)\n",
    "model.functional_constraint = ConstraintList()\n",
    "for j in T:\n",
    "    for k in P:\n",
    "        if k != \"Scrum\":\n",
    "            if P == k:\n",
    "                model.functional_constraint.add(sum(model.x[i,j] for i in W  ) == function_traget+model.fpplus[j,k]-model.fpminus[j,k])"
   ]
  },
  {
   "cell_type": "code",
   "execution_count": 25,
   "id": "meaningful-skiing",
   "metadata": {},
   "outputs": [],
   "source": [
    "# 5th Time zone Constraint\n",
    "#if hasattr(model, 'Time_constraint'):\n",
    "#    model.delete(model.Time_constraint)\n",
    "#model.Time_constraint = ConstraintList()\n",
    "#for j in T:\n",
    "#    for i in W:\n",
    "#        model.Time_constraint.add((model.x[i,j]) <= model.y[j,timezone[i]])"
   ]
  },
  {
   "cell_type": "markdown",
   "id": "satellite-allah",
   "metadata": {},
   "source": [
    "Agile constraint"
   ]
  },
  {
   "cell_type": "code",
   "execution_count": 26,
   "id": "filled-alliance",
   "metadata": {
    "scrolled": true
   },
   "outputs": [],
   "source": [
    "# 6th Agile constraint\n",
    "if hasattr(model, 'he_flip_off'):\n",
    "    model.delete(model.he_flip_off)\n",
    "model.he_flip_off = ConstraintList()\n",
    "for j in T:\n",
    "    for i in W:\n",
    "        if A == \"highly experienced and certified\":\n",
    "            model.he_flip_off.add(sum(model.x[i,j])>= model.he[j])"
   ]
  },
  {
   "cell_type": "markdown",
   "id": "productive-crisis",
   "metadata": {},
   "source": [
    "Agile constraint for highly experienced "
   ]
  },
  {
   "cell_type": "code",
   "execution_count": 27,
   "id": "steady-coral",
   "metadata": {
    "scrolled": true
   },
   "outputs": [
    {
     "name": "stdout",
     "output_type": "stream",
     "text": [
      "WARNING: Implicitly replacing the Component attribute te_flip_off (type=<class\n",
      "    'pyomo.core.base.constraint.SimpleConstraint'>) on block unknown with a\n",
      "    new Component (type=<class\n",
      "    'pyomo.core.base.constraint.AbstractSimpleConstraint'>). This is usually\n",
      "    indicative of a modelling error. To avoid this warning, use\n",
      "    block.del_component() and block.add_component().\n",
      "WARNING: Implicitly replacing the Component attribute te_flip_off (type=<class\n",
      "    'pyomo.core.base.constraint.SimpleConstraint'>) on block unknown with a\n",
      "    new Component (type=<class\n",
      "    'pyomo.core.base.constraint.AbstractSimpleConstraint'>). This is usually\n",
      "    indicative of a modelling error. To avoid this warning, use\n",
      "    block.del_component() and block.add_component().\n",
      "WARNING: Implicitly replacing the Component attribute te_flip_off (type=<class\n",
      "    'pyomo.core.base.constraint.SimpleConstraint'>) on block unknown with a\n",
      "    new Component (type=<class\n",
      "    'pyomo.core.base.constraint.AbstractSimpleConstraint'>). This is usually\n",
      "    indicative of a modelling error. To avoid this warning, use\n",
      "    block.del_component() and block.add_component().\n",
      "WARNING: Implicitly replacing the Component attribute te_flip_off (type=<class\n",
      "    'pyomo.core.base.constraint.SimpleConstraint'>) on block unknown with a\n",
      "    new Component (type=<class\n",
      "    'pyomo.core.base.constraint.AbstractSimpleConstraint'>). This is usually\n",
      "    indicative of a modelling error. To avoid this warning, use\n",
      "    block.del_component() and block.add_component().\n",
      "WARNING: Implicitly replacing the Component attribute te_flip_off (type=<class\n",
      "    'pyomo.core.base.constraint.SimpleConstraint'>) on block unknown with a\n",
      "    new Component (type=<class\n",
      "    'pyomo.core.base.constraint.AbstractSimpleConstraint'>). This is usually\n",
      "    indicative of a modelling error. To avoid this warning, use\n",
      "    block.del_component() and block.add_component().\n",
      "WARNING: Implicitly replacing the Component attribute te_flip_off (type=<class\n",
      "    'pyomo.core.base.constraint.SimpleConstraint'>) on block unknown with a\n",
      "    new Component (type=<class\n",
      "    'pyomo.core.base.constraint.AbstractSimpleConstraint'>). This is usually\n",
      "    indicative of a modelling error. To avoid this warning, use\n",
      "    block.del_component() and block.add_component().\n",
      "WARNING: Implicitly replacing the Component attribute te_flip_off (type=<class\n",
      "    'pyomo.core.base.constraint.SimpleConstraint'>) on block unknown with a\n",
      "    new Component (type=<class\n",
      "    'pyomo.core.base.constraint.AbstractSimpleConstraint'>). This is usually\n",
      "    indicative of a modelling error. To avoid this warning, use\n",
      "    block.del_component() and block.add_component().\n",
      "WARNING: Implicitly replacing the Component attribute te_flip_off (type=<class\n",
      "    'pyomo.core.base.constraint.SimpleConstraint'>) on block unknown with a\n",
      "    new Component (type=<class\n",
      "    'pyomo.core.base.constraint.AbstractSimpleConstraint'>). This is usually\n",
      "    indicative of a modelling error. To avoid this warning, use\n",
      "    block.del_component() and block.add_component().\n",
      "WARNING: Implicitly replacing the Component attribute te_flip_off (type=<class\n",
      "    'pyomo.core.base.constraint.SimpleConstraint'>) on block unknown with a\n",
      "    new Component (type=<class\n",
      "    'pyomo.core.base.constraint.AbstractSimpleConstraint'>). This is usually\n",
      "    indicative of a modelling error. To avoid this warning, use\n",
      "    block.del_component() and block.add_component().\n",
      "WARNING: Implicitly replacing the Component attribute te_flip_off (type=<class\n",
      "    'pyomo.core.base.constraint.SimpleConstraint'>) on block unknown with a\n",
      "    new Component (type=<class\n",
      "    'pyomo.core.base.constraint.AbstractSimpleConstraint'>). This is usually\n",
      "    indicative of a modelling error. To avoid this warning, use\n",
      "    block.del_component() and block.add_component().\n",
      "WARNING: Implicitly replacing the Component attribute te_flip_off (type=<class\n",
      "    'pyomo.core.base.constraint.SimpleConstraint'>) on block unknown with a\n",
      "    new Component (type=<class\n",
      "    'pyomo.core.base.constraint.AbstractSimpleConstraint'>). This is usually\n",
      "    indicative of a modelling error. To avoid this warning, use\n",
      "    block.del_component() and block.add_component().\n",
      "WARNING: Implicitly replacing the Component attribute te_flip_off (type=<class\n",
      "    'pyomo.core.base.constraint.SimpleConstraint'>) on block unknown with a\n",
      "    new Component (type=<class\n",
      "    'pyomo.core.base.constraint.AbstractSimpleConstraint'>). This is usually\n",
      "    indicative of a modelling error. To avoid this warning, use\n",
      "    block.del_component() and block.add_component().\n",
      "WARNING: Implicitly replacing the Component attribute te_flip_off (type=<class\n",
      "    'pyomo.core.base.constraint.SimpleConstraint'>) on block unknown with a\n",
      "    new Component (type=<class\n",
      "    'pyomo.core.base.constraint.AbstractSimpleConstraint'>). This is usually\n",
      "    indicative of a modelling error. To avoid this warning, use\n",
      "    block.del_component() and block.add_component().\n"
     ]
    }
   ],
   "source": [
    "if hasattr(model, 'te_flip_off'):\n",
    "    model.delete(model.te_flip_off)\n",
    "for j in T:\n",
    "    model.te_flip_off= Constraint(expr = sum(model.x[i,j] for i in W if A in\n",
    "                              [\"highly experienced and certified\",\"training/experience\"])- 0.3* sum(model.x[i,j] for i in W) >= -12*(1-model.te[j]))\n",
    "    \n"
   ]
  },
  {
   "cell_type": "markdown",
   "id": "sized-compatibility",
   "metadata": {},
   "source": [
    "Scrum Master constraint"
   ]
  },
  {
   "cell_type": "code",
   "execution_count": 28,
   "id": "serious-greenhouse",
   "metadata": {
    "scrolled": true
   },
   "outputs": [],
   "source": [
    "# 8th scrum master Constraint\n",
    "if hasattr(model, 'scrum_master_constraint'):\n",
    "    model.delete(model.scrum_master_constraint)\n",
    "model.scrum_master_constraint = ConstraintList()\n",
    "for j in T:\n",
    "    if S == \"Scrum Master\":\n",
    "        model.scrum_master_constraint.add(sum(model.x[i,j] for i in W) <= 2 and (model.x[i,j]for i in W) >=1)"
   ]
  },
  {
   "cell_type": "markdown",
   "id": "addressed-release",
   "metadata": {},
   "source": [
    "Specify solver and solve"
   ]
  },
  {
   "cell_type": "code",
   "execution_count": 29,
   "id": "alike-bidding",
   "metadata": {},
   "outputs": [],
   "source": [
    "solver = SolverFactory('gurobi')\n",
    "status = solver.solve(model)"
   ]
  },
  {
   "cell_type": "markdown",
   "id": "generic-authentication",
   "metadata": {},
   "source": [
    "Get status"
   ]
  },
  {
   "cell_type": "code",
   "execution_count": 30,
   "id": "molecular-doctor",
   "metadata": {},
   "outputs": [
    {
     "name": "stdout",
     "output_type": "stream",
     "text": [
      "status = \n",
      "Problem: \n",
      "- Name: x2493\n",
      "  Lower bound: 429.0\n",
      "  Upper bound: 429.0\n",
      "  Number of objectives: 1\n",
      "  Number of constraints: 292\n",
      "  Number of variables: 2340\n",
      "  Number of binary variables: 2058\n",
      "  Number of integer variables: 2311\n",
      "  Number of continuous variables: 29\n",
      "  Number of nonzeros: 4205\n",
      "  Sense: minimize\n",
      "Solver: \n",
      "- Status: ok\n",
      "  Return code: 0\n",
      "  Message: Model was solved to optimality (subject to tolerances), and an optimal solution is available.\n",
      "  Termination condition: optimal\n",
      "  Termination message: Model was solved to optimality (subject to tolerances), and an optimal solution is available.\n",
      "  Wall time: 0.015626907348632812\n",
      "  Error rc: 0\n",
      "  Time: 0.18144750595092773\n",
      "Solution: \n",
      "- number of solutions: 0\n",
      "  number of solutions displayed: 0\n",
      "\n"
     ]
    }
   ],
   "source": [
    "print('status = %s' % status)"
   ]
  },
  {
   "cell_type": "markdown",
   "id": "golden-exchange",
   "metadata": {},
   "source": [
    "## Result"
   ]
  },
  {
   "cell_type": "markdown",
   "id": "bibliographic-texas",
   "metadata": {},
   "source": [
    "Get solution and objective function value"
   ]
  },
  {
   "cell_type": "code",
   "execution_count": 31,
   "id": "colonial-deposit",
   "metadata": {},
   "outputs": [
    {
     "name": "stdout",
     "output_type": "stream",
     "text": [
      "x[1,5] = 1.000000\n",
      "x[2,8] = 1.000000\n",
      "x[3,1] = 1.000000\n",
      "x[4,5] = 1.000000\n",
      "x[5,2] = 1.000000\n",
      "x[6,7] = 1.000000\n",
      "x[7,7] = 1.000000\n",
      "x[8,11] = 1.000000\n",
      "x[9,12] = 1.000000\n",
      "x[10,4] = 1.000000\n",
      "x[11,4] = 1.000000\n",
      "x[12,1] = 1.000000\n",
      "x[13,3] = 1.000000\n",
      "x[14,2] = 1.000000\n",
      "x[15,6] = 1.000000\n",
      "x[16,12] = 1.000000\n",
      "x[17,2] = 1.000000\n",
      "x[18,8] = 1.000000\n",
      "x[19,10] = 1.000000\n",
      "x[20,4] = 1.000000\n",
      "x[21,10] = 1.000000\n",
      "x[22,6] = 1.000000\n",
      "x[23,2] = 1.000000\n",
      "x[24,11] = 1.000000\n",
      "x[25,2] = 1.000000\n",
      "x[26,1] = 1.000000\n",
      "x[27,5] = 1.000000\n",
      "x[28,8] = 1.000000\n",
      "x[29,3] = 1.000000\n",
      "x[30,2] = 1.000000\n",
      "x[31,8] = 1.000000\n",
      "x[32,2] = 1.000000\n",
      "x[33,9] = 1.000000\n",
      "x[34,2] = 1.000000\n",
      "x[35,8] = 1.000000\n",
      "x[36,11] = 1.000000\n",
      "x[37,13] = 1.000000\n",
      "x[38,8] = 1.000000\n",
      "x[39,12] = 1.000000\n",
      "x[40,6] = 1.000000\n",
      "x[41,10] = 1.000000\n",
      "x[42,8] = 1.000000\n",
      "x[43,2] = 1.000000\n",
      "x[44,11] = 1.000000\n",
      "x[45,2] = 1.000000\n",
      "x[46,3] = 1.000000\n",
      "x[47,13] = 1.000000\n",
      "x[48,3] = 1.000000\n",
      "x[49,5] = 1.000000\n",
      "x[50,11] = 1.000000\n",
      "x[51,1] = 1.000000\n",
      "x[52,4] = 1.000000\n",
      "x[53,6] = 1.000000\n",
      "x[54,2] = 1.000000\n",
      "x[55,10] = 1.000000\n",
      "x[56,10] = 1.000000\n",
      "x[57,5] = 1.000000\n",
      "x[58,10] = 1.000000\n",
      "x[59,9] = 1.000000\n",
      "x[60,3] = 1.000000\n",
      "x[61,11] = 1.000000\n",
      "x[62,11] = 1.000000\n",
      "x[63,1] = 1.000000\n",
      "x[64,11] = 1.000000\n",
      "x[65,10] = 1.000000\n",
      "x[66,13] = 1.000000\n",
      "x[67,12] = 1.000000\n",
      "x[68,7] = 1.000000\n",
      "x[69,11] = 1.000000\n",
      "x[70,9] = 1.000000\n",
      "x[71,11] = 1.000000\n",
      "x[72,4] = 1.000000\n",
      "x[73,13] = 1.000000\n",
      "x[74,13] = 1.000000\n",
      "x[75,10] = 1.000000\n",
      "x[76,2] = 1.000000\n",
      "x[77,4] = 1.000000\n",
      "x[78,1] = 1.000000\n",
      "x[79,5] = 1.000000\n",
      "x[80,3] = 1.000000\n",
      "x[81,9] = 1.000000\n",
      "x[82,6] = 1.000000\n",
      "x[83,6] = 1.000000\n",
      "x[84,3] = 1.000000\n",
      "x[85,6] = 1.000000\n",
      "x[86,5] = 1.000000\n",
      "x[87,6] = 1.000000\n",
      "x[88,4] = 1.000000\n",
      "x[89,7] = 1.000000\n",
      "x[90,1] = 1.000000\n",
      "x[91,11] = 1.000000\n",
      "x[92,8] = 1.000000\n",
      "x[93,1] = 1.000000\n",
      "x[94,13] = 1.000000\n",
      "x[95,2] = 1.000000\n",
      "x[96,2] = 1.000000\n",
      "x[97,9] = 1.000000\n",
      "x[98,6] = 1.000000\n",
      "x[99,7] = 1.000000\n",
      "x[100,1] = 1.000000\n",
      "x[101,11] = 1.000000\n",
      "x[102,8] = 1.000000\n",
      "x[103,6] = 1.000000\n",
      "x[104,13] = 1.000000\n",
      "x[105,11] = 1.000000\n",
      "x[106,13] = 1.000000\n",
      "x[107,10] = 1.000000\n",
      "x[108,11] = 1.000000\n",
      "x[109,5] = 1.000000\n",
      "x[110,2] = 1.000000\n",
      "x[111,8] = 1.000000\n",
      "x[112,7] = 1.000000\n",
      "x[113,11] = 1.000000\n",
      "x[114,4] = 1.000000\n",
      "x[115,5] = 1.000000\n",
      "x[116,13] = 1.000000\n",
      "x[117,2] = 1.000000\n",
      "x[118,11] = 1.000000\n",
      "x[119,11] = 1.000000\n",
      "x[120,5] = 1.000000\n",
      "x[121,3] = 1.000000\n",
      "x[122,9] = 1.000000\n",
      "x[123,4] = 1.000000\n",
      "x[124,2] = 1.000000\n",
      "x[125,13] = 1.000000\n",
      "x[126,13] = 1.000000\n",
      "x[127,13] = 1.000000\n",
      "x[128,13] = 1.000000\n",
      "x[129,6] = 1.000000\n",
      "x[130,13] = 1.000000\n",
      "x[131,5] = 1.000000\n",
      "x[132,7] = 1.000000\n",
      "x[133,6] = 1.000000\n",
      "x[134,2] = 1.000000\n",
      "x[135,13] = 1.000000\n",
      "x[136,3] = 1.000000\n",
      "x[137,6] = 1.000000\n",
      "x[138,1] = 1.000000\n",
      "x[139,10] = 1.000000\n",
      "x[140,10] = 1.000000\n",
      "x[141,10] = 1.000000\n",
      "x[142,4] = 1.000000\n",
      "x[143,3] = 1.000000\n",
      "objective = 429.000000\n"
     ]
    }
   ],
   "source": [
    "for i in W:\n",
    "    for j in T:\n",
    "        if value(model.x[i,j])>0:\n",
    "            print('%s = %f' % (model.x[i,j], value(model.x[i,j])))\n",
    "print(\"objective = %f\" % value(model.cost_objective))"
   ]
  },
  {
   "cell_type": "code",
   "execution_count": null,
   "id": "environmental-helen",
   "metadata": {},
   "outputs": [],
   "source": []
  }
 ],
 "metadata": {
  "kernelspec": {
   "display_name": "Python 3",
   "language": "python",
   "name": "python3"
  },
  "language_info": {
   "codemirror_mode": {
    "name": "ipython",
    "version": 3
   },
   "file_extension": ".py",
   "mimetype": "text/x-python",
   "name": "python",
   "nbconvert_exporter": "python",
   "pygments_lexer": "ipython3",
   "version": "3.8.8"
  }
 },
 "nbformat": 4,
 "nbformat_minor": 5
}
